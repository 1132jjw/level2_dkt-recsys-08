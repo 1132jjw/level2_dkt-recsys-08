{
 "cells": [
  {
   "cell_type": "markdown",
   "metadata": {
    "id": "yt7sDAqHhfQp"
   },
   "source": [
    "# LGBM"
   ]
  },
  {
   "cell_type": "code",
   "execution_count": 9,
   "metadata": {
    "ExecuteTime": {
     "end_time": "2021-05-24T09:49:29.375544Z",
     "start_time": "2021-05-24T09:49:28.999092Z"
    },
    "colab": {
     "base_uri": "https://localhost:8080/"
    },
    "executionInfo": {
     "elapsed": 2694,
     "status": "ok",
     "timestamp": 1685637973400,
     "user": {
      "displayName": "박수현",
      "userId": "16969014052180030902"
     },
     "user_tz": -540
    },
    "id": "Uq_TJqbdhfQu",
    "outputId": "6b191792-d23a-421b-f30a-c0d4928851bd"
   },
   "outputs": [],
   "source": [
    "import pandas as pd\n",
    "import numpy as np\n",
    "import matplotlib.pyplot as plt\n",
    "import seaborn as sns\n",
    "\n",
    "import os\n",
    "import random\n",
    "import warnings\n",
    "import time\n",
    "import math\n",
    "\n",
    "import sklearn\n",
    "from sklearn.model_selection import train_test_split\n",
    "from sklearn.metrics import roc_auc_score, accuracy_score\n",
    "from lightgbm import LGBMClassifier\n",
    "\n",
    "warnings.filterwarnings(action=\"ignore\")  # 경고 출력 무시"
   ]
  },
  {
   "cell_type": "code",
   "execution_count": 10,
   "metadata": {
    "id": "mwiklfLgVjeh"
   },
   "outputs": [],
   "source": [
    "seed = 42\n",
    "os.environ[\"PYTHONHASHSEED\"] = str(seed)\n",
    "random.seed(seed)\n",
    "np.random.seed(seed)"
   ]
  },
  {
   "cell_type": "markdown",
   "metadata": {
    "id": "QZlm5HSmhfQv"
   },
   "source": [
    "## 1. Data Load"
   ]
  },
  {
   "cell_type": "code",
   "execution_count": null,
   "metadata": {
    "colab": {
     "base_uri": "https://localhost:8080/"
    },
    "executionInfo": {
     "elapsed": 5,
     "status": "ok",
     "timestamp": 1685637973401,
     "user": {
      "displayName": "박수현",
      "userId": "16969014052180030902"
     },
     "user_tz": -540
    },
    "id": "o6ETHgGXjmcP",
    "outputId": "188ce4a5-f29b-4c55-9487-f5e458dd9bec",
    "scrolled": true
   },
   "outputs": [],
   "source": [
    "path = '/DKT'\n",
    "print(os.listdir(path))\n",
    "data_path = path + '/data'\n",
    "\n",
    "train_path = data_path + '/train_data.csv'\n",
    "test_path = data_path + '/test_data.csv'"
   ]
  },
  {
   "cell_type": "code",
   "execution_count": 12,
   "metadata": {
    "colab": {
     "base_uri": "https://localhost:8080/",
     "height": 423
    },
    "executionInfo": {
     "elapsed": 3397,
     "status": "ok",
     "timestamp": 1685637976795,
     "user": {
      "displayName": "박수현",
      "userId": "16969014052180030902"
     },
     "user_tz": -540
    },
    "id": "EpGXTHIcj4gs",
    "outputId": "f3e4fd19-c8cf-44e0-845b-eddce041346c"
   },
   "outputs": [
    {
     "data": {
      "text/html": [
       "<div>\n",
       "<style scoped>\n",
       "    .dataframe tbody tr th:only-of-type {\n",
       "        vertical-align: middle;\n",
       "    }\n",
       "\n",
       "    .dataframe tbody tr th {\n",
       "        vertical-align: top;\n",
       "    }\n",
       "\n",
       "    .dataframe thead th {\n",
       "        text-align: right;\n",
       "    }\n",
       "</style>\n",
       "<table border=\"1\" class=\"dataframe\">\n",
       "  <thead>\n",
       "    <tr style=\"text-align: right;\">\n",
       "      <th></th>\n",
       "      <th>userID</th>\n",
       "      <th>assessmentItemID</th>\n",
       "      <th>testId</th>\n",
       "      <th>answerCode</th>\n",
       "      <th>Timestamp</th>\n",
       "      <th>KnowledgeTag</th>\n",
       "      <th>dataset</th>\n",
       "    </tr>\n",
       "  </thead>\n",
       "  <tbody>\n",
       "    <tr>\n",
       "      <th>0</th>\n",
       "      <td>0</td>\n",
       "      <td>A060001001</td>\n",
       "      <td>A060000001</td>\n",
       "      <td>1</td>\n",
       "      <td>2020-03-24 00:17:11</td>\n",
       "      <td>7224</td>\n",
       "      <td>1</td>\n",
       "    </tr>\n",
       "    <tr>\n",
       "      <th>1</th>\n",
       "      <td>0</td>\n",
       "      <td>A060001002</td>\n",
       "      <td>A060000001</td>\n",
       "      <td>1</td>\n",
       "      <td>2020-03-24 00:17:14</td>\n",
       "      <td>7225</td>\n",
       "      <td>1</td>\n",
       "    </tr>\n",
       "    <tr>\n",
       "      <th>2</th>\n",
       "      <td>0</td>\n",
       "      <td>A060001003</td>\n",
       "      <td>A060000001</td>\n",
       "      <td>1</td>\n",
       "      <td>2020-03-24 00:17:22</td>\n",
       "      <td>7225</td>\n",
       "      <td>1</td>\n",
       "    </tr>\n",
       "    <tr>\n",
       "      <th>3</th>\n",
       "      <td>0</td>\n",
       "      <td>A060001004</td>\n",
       "      <td>A060000001</td>\n",
       "      <td>1</td>\n",
       "      <td>2020-03-24 00:17:29</td>\n",
       "      <td>7225</td>\n",
       "      <td>1</td>\n",
       "    </tr>\n",
       "    <tr>\n",
       "      <th>4</th>\n",
       "      <td>0</td>\n",
       "      <td>A060001005</td>\n",
       "      <td>A060000001</td>\n",
       "      <td>1</td>\n",
       "      <td>2020-03-24 00:17:36</td>\n",
       "      <td>7225</td>\n",
       "      <td>1</td>\n",
       "    </tr>\n",
       "    <tr>\n",
       "      <th>...</th>\n",
       "      <td>...</td>\n",
       "      <td>...</td>\n",
       "      <td>...</td>\n",
       "      <td>...</td>\n",
       "      <td>...</td>\n",
       "      <td>...</td>\n",
       "      <td>...</td>\n",
       "    </tr>\n",
       "    <tr>\n",
       "      <th>260109</th>\n",
       "      <td>7439</td>\n",
       "      <td>A040130001</td>\n",
       "      <td>A040000130</td>\n",
       "      <td>0</td>\n",
       "      <td>2020-10-14 23:07:23</td>\n",
       "      <td>8832</td>\n",
       "      <td>2</td>\n",
       "    </tr>\n",
       "    <tr>\n",
       "      <th>260110</th>\n",
       "      <td>7439</td>\n",
       "      <td>A040130002</td>\n",
       "      <td>A040000130</td>\n",
       "      <td>1</td>\n",
       "      <td>2020-10-14 23:07:41</td>\n",
       "      <td>8832</td>\n",
       "      <td>2</td>\n",
       "    </tr>\n",
       "    <tr>\n",
       "      <th>260111</th>\n",
       "      <td>7439</td>\n",
       "      <td>A040130003</td>\n",
       "      <td>A040000130</td>\n",
       "      <td>1</td>\n",
       "      <td>2020-10-14 23:08:02</td>\n",
       "      <td>8244</td>\n",
       "      <td>2</td>\n",
       "    </tr>\n",
       "    <tr>\n",
       "      <th>260112</th>\n",
       "      <td>7439</td>\n",
       "      <td>A040130004</td>\n",
       "      <td>A040000130</td>\n",
       "      <td>1</td>\n",
       "      <td>2020-10-14 23:09:31</td>\n",
       "      <td>8244</td>\n",
       "      <td>2</td>\n",
       "    </tr>\n",
       "    <tr>\n",
       "      <th>260113</th>\n",
       "      <td>7439</td>\n",
       "      <td>A040130005</td>\n",
       "      <td>A040000130</td>\n",
       "      <td>-1</td>\n",
       "      <td>2020-10-14 23:10:03</td>\n",
       "      <td>8832</td>\n",
       "      <td>2</td>\n",
       "    </tr>\n",
       "  </tbody>\n",
       "</table>\n",
       "<p>2526700 rows × 7 columns</p>\n",
       "</div>"
      ],
      "text/plain": [
       "        userID assessmentItemID      testId  answerCode           Timestamp  \\\n",
       "0            0       A060001001  A060000001           1 2020-03-24 00:17:11   \n",
       "1            0       A060001002  A060000001           1 2020-03-24 00:17:14   \n",
       "2            0       A060001003  A060000001           1 2020-03-24 00:17:22   \n",
       "3            0       A060001004  A060000001           1 2020-03-24 00:17:29   \n",
       "4            0       A060001005  A060000001           1 2020-03-24 00:17:36   \n",
       "...        ...              ...         ...         ...                 ...   \n",
       "260109    7439       A040130001  A040000130           0 2020-10-14 23:07:23   \n",
       "260110    7439       A040130002  A040000130           1 2020-10-14 23:07:41   \n",
       "260111    7439       A040130003  A040000130           1 2020-10-14 23:08:02   \n",
       "260112    7439       A040130004  A040000130           1 2020-10-14 23:09:31   \n",
       "260113    7439       A040130005  A040000130          -1 2020-10-14 23:10:03   \n",
       "\n",
       "        KnowledgeTag  dataset  \n",
       "0               7224        1  \n",
       "1               7225        1  \n",
       "2               7225        1  \n",
       "3               7225        1  \n",
       "4               7225        1  \n",
       "...              ...      ...  \n",
       "260109          8832        2  \n",
       "260110          8832        2  \n",
       "260111          8244        2  \n",
       "260112          8244        2  \n",
       "260113          8832        2  \n",
       "\n",
       "[2526700 rows x 7 columns]"
      ]
     },
     "execution_count": 12,
     "metadata": {},
     "output_type": "execute_result"
    }
   ],
   "source": [
    "df_train = pd.read_csv(train_path, parse_dates=[\"Timestamp\"])\n",
    "df_test = pd.read_csv(test_path, parse_dates=[\"Timestamp\"])\n",
    "\n",
    "df_train['dataset'] = 1\n",
    "df_test['dataset'] = 2\n",
    "\n",
    "df = pd.concat([df_train, df_test])\n",
    "df"
   ]
  },
  {
   "cell_type": "markdown",
   "metadata": {
    "id": "p_oCGAgEhfQw"
   },
   "source": [
    "## 2. Feature Engineering"
   ]
  },
  {
   "cell_type": "code",
   "execution_count": 13,
   "metadata": {
    "id": "kQQwluM80R0G"
   },
   "outputs": [],
   "source": [
    "def feature_engineering(df):\n",
    "\n",
    "    ########## 기본 feature ##########\n",
    "\n",
    "    # 유저별 시퀀스를 고려하기 위해 정렬\n",
    "    df.sort_values(by=[\"userID\", \"Timestamp\"], inplace=True)\n",
    "    df.reset_index(inplace = True)\n",
    "\n",
    "    # 카테고리형 feature\n",
    "    categories = [\"assessmentItemID\", \"testId\"]\n",
    "\n",
    "    for category in categories:\n",
    "        df[category] = df[category].astype(\"category\")\n",
    "\n",
    "    ########## 문제 관련 ##########\n",
    "\n",
    "    # 문제 대분류 : 시험지 카테고리, 시험지 번호, 문제 번호\n",
    "    df[\"category\"] = df[\"testId\"].apply(lambda x: int(x[2]))\n",
    "    df[\"test_number\"] = df[\"testId\"].apply(lambda x: int(x[-3:]))\n",
    "    df[\"problem_number\"] = df[\"assessmentItemID\"].apply(lambda x: int(x[-3:]))\n",
    "    \n",
    "    # 인접한 testId grouping\n",
    "    index = df[df['testId'] != df['testId'].shift(-1)].index\n",
    "    grouping = [0] * (index[0] + 1)\n",
    "    for i in range(1, len(index)):\n",
    "        grouping += [i] * (index[i] - index[i-1])\n",
    "    df['grouping'] = grouping\n",
    "\n",
    "    # 문항별 Mean Encoding\n",
    "    per_test = df.groupby([\"testId\"])[\"answerCode\"].agg([\"mean\", \"sum\"])\n",
    "    per_test.columns = [\"answerRate_per_test\", \"answerCount_per_test\"]\n",
    "    df = pd.merge(df, per_test, on=[\"testId\"], how=\"left\")\n",
    "\n",
    "    # Tag별 Mean Encoding\n",
    "    per_tag = df.groupby([\"KnowledgeTag\"])[\"answerCode\"].agg([\"mean\", \"sum\"])\n",
    "    per_tag.columns = [\"answerRate_per_tag\", \"answerCount_per_tag\"]\n",
    "    df = pd.merge(df, per_tag, on=[\"KnowledgeTag\"], how=\"left\")\n",
    "\n",
    "    # 시험지별 Mean Encoding\n",
    "    per_ass = df.groupby([\"assessmentItemID\"])[\"answerCode\"].agg([\"mean\", \"sum\"])\n",
    "    per_ass.columns = [\"answerRate_per_ass\", \"answerCount_per_ass\"]\n",
    "    df = pd.merge(df, per_ass, on=[\"assessmentItemID\"], how=\"left\")\n",
    "\n",
    "    # 문제 번호별 Mean Encoding\n",
    "    per_pnum = df.groupby([\"problem_number\"])[\"answerCode\"].agg([\"mean\", \"sum\"])\n",
    "    per_pnum.columns = [\"answerRate_per_pnum\", \"answerCount_per_pnum\"]\n",
    "    df = pd.merge(df, per_pnum, on=[\"problem_number\"], how=\"left\")\n",
    "\n",
    "    # 시험지 별 문제 수와 태그 수\n",
    "    f = lambda x: len(set(x))\n",
    "    test = df.groupby([\"testId\"]).agg({\"problem_number\": \"max\", \"KnowledgeTag\": f})\n",
    "    test.reset_index(inplace=True)\n",
    "    test.columns = [\"testId\", \"problem_count\", \"tag_count\"]\n",
    "    df = pd.merge(df, test, on=\"testId\", how=\"left\")\n",
    "    df[\"problem_position\"] = df[\"problem_number\"] / df[\"problem_count\"]\n",
    "\n",
    "    ########## Time 관련 ##########\n",
    "\n",
    "    # 문제 풀이 시간 ver1 : elapsed shift(1)\n",
    "    diff = df[[\"userID\", \"grouping\", \"Timestamp\"]].groupby([\"userID\", \"grouping\"]).diff().fillna(pd.Timedelta(seconds=0))\n",
    "    df[\"elapsed_shift\"] = diff[\"Timestamp\"].apply(lambda x: x.total_seconds())\n",
    "\n",
    "    # 문제 풀이 시간 ver2 : 문제 푸는 시간\n",
    "    df['elapsed'] = df['elapsed_shift'].shift(-1).fillna(value = 0)\n",
    "    temp = df[df['testId'] == df['testId'].shift(-1)].groupby('grouping')['elapsed'].mean().to_dict()\n",
    "    df.loc[df['testId'] != df['testId'].shift(-1), 'elapsed'] = df.loc[df['testId'] != df['testId'].shift(-1), 'grouping'].map(temp).fillna(value = 0).astype(int)\n",
    "\n",
    "    # 맞춘 문제와 틀린 문제\n",
    "    correct_df = df[df[\"answerCode\"] == 1]\n",
    "    wrong_df = df[df[\"answerCode\"] == 0]\n",
    "\n",
    "    # Tag별 모든 문제, 맞춘 문제, 틀린 문제별 풀이 시간의 평균\n",
    "    mean_elapsed_tag = df.groupby([\"KnowledgeTag\"])[\"elapsed\"].agg(\"mean\").reset_index()\n",
    "    mean_elapsed_tag.columns = [\"KnowledgeTag\", \"mean_elp_tag_all\"]\n",
    "    df = pd.merge(df, mean_elapsed_tag, on=[\"KnowledgeTag\"], how=\"left\")\n",
    "\n",
    "    mean_elapsed_tag_o = correct_df.groupby([\"KnowledgeTag\"])[\"elapsed\"].agg(\"mean\").reset_index()\n",
    "    mean_elapsed_tag_o.columns = [\"KnowledgeTag\", \"mean_elp_tag_o\"]\n",
    "    df = pd.merge(df, mean_elapsed_tag_o, on=[\"KnowledgeTag\"], how=\"left\")\n",
    "\n",
    "    mean_elapsed_tag_x = wrong_df.groupby([\"KnowledgeTag\"])[\"elapsed\"].agg(\"mean\").reset_index()\n",
    "    mean_elapsed_tag_x.columns = [\"KnowledgeTag\", \"mean_elp_tag_x\"]\n",
    "    df = pd.merge(df, mean_elapsed_tag_x, on=[\"KnowledgeTag\"], how=\"left\")\n",
    "\n",
    "    # 문제별 모든 문제, 맞춘 문제, 틀린 문제별 풀이 시간의 평균\n",
    "    mean_elapsed_ass = df.groupby([\"assessmentItemID\"])[\"elapsed\"].agg(\"mean\").reset_index()\n",
    "    mean_elapsed_ass.columns = [\"assessmentItemID\", \"mean_elp_ass_all\"]\n",
    "    df = pd.merge(df, mean_elapsed_ass, on=[\"assessmentItemID\"], how=\"left\")\n",
    "\n",
    "    mean_elapsed_ass_o = correct_df.groupby([\"assessmentItemID\"])[\"elapsed\"].agg(\"mean\").reset_index()\n",
    "    mean_elapsed_ass_o.columns = [\"assessmentItemID\", \"mean_elp_ass_o\"]\n",
    "    df = pd.merge(df, mean_elapsed_ass_o, on=[\"assessmentItemID\"], how=\"left\")\n",
    "\n",
    "    mean_elapsed_ass_x = wrong_df.groupby([\"assessmentItemID\"])[\"elapsed\"].agg(\"mean\").reset_index()\n",
    "    mean_elapsed_ass_x.columns = [\"assessmentItemID\", \"mean_elp_ass_x\"]\n",
    "    df = pd.merge(df, mean_elapsed_ass_x, on=[\"assessmentItemID\"], how=\"left\")\n",
    "\n",
    "    # 문제 번호별 모든 문제, 맞춘 문제, 틀린 문제별 풀이 시간의 평균\n",
    "    mean_elapsed_pnum = df.groupby([\"problem_number\"])[\"elapsed\"].agg(\"mean\").reset_index()\n",
    "    mean_elapsed_pnum.columns = [\"problem_number\", \"mean_elp_pnum_all\"]\n",
    "    df = pd.merge(df, mean_elapsed_pnum, on=[\"problem_number\"], how=\"left\")\n",
    "\n",
    "    mean_elapsed_pnum_o = correct_df.groupby([\"problem_number\"])[\"elapsed\"].agg(\"mean\").reset_index()\n",
    "    mean_elapsed_pnum_o.columns = [\"problem_number\", \"mean_elp_pnum_o\"]\n",
    "    df = pd.merge(df, mean_elapsed_pnum_o, on=[\"problem_number\"], how=\"left\")\n",
    "\n",
    "    mean_elapsed_pnum_x = wrong_df.groupby([\"problem_number\"])[\"elapsed\"].agg(\"mean\").reset_index()\n",
    "    mean_elapsed_pnum_x.columns = [\"problem_number\", \"mean_elp_pnum_x\"]\n",
    "    df = pd.merge(df, mean_elapsed_pnum_x, on=[\"problem_number\"], how=\"left\")\n",
    "\n",
    "    # 유저 평균과의 시간 차이\n",
    "    for i in range(1,6):\n",
    "        df[f\"timestep_{i}\"] = df.groupby(\"userID\")[\"answerCode\"].shift(i).fillna(1).astype(int)\n",
    "\n",
    "    df_time = df[[\"userID\", \"elapsed\"]].groupby([\"userID\"]).agg(\"median\").reset_index()\n",
    "    df_time.rename(columns={\"elapsed\": \"user_median_elapsed\"}, inplace=True)\n",
    "    df = df.merge(df_time, on=\"userID\", how=\"left\")\n",
    "    df[\"timeDelta_userAverage\"] = df[\"elapsed\"] - df[\"user_median_elapsed\"]\n",
    "\n",
    "    # 문제 정답 / 오답자들의 문제 풀이 시간 중위수\n",
    "    col_name = [\"median_elapsed_wrong_users\", \"median_elapsed_correct_users\"]\n",
    "    for i in range(2):\n",
    "        df_median_elapsed = (df[[\"assessmentItemID\", \"answerCode\", \"elapsed\"]].groupby([\"assessmentItemID\", \"answerCode\"]).agg(\"median\").reset_index())\n",
    "        df_median_elapsed = df_median_elapsed[df_median_elapsed[\"answerCode\"] == i].drop(\"answerCode\", axis=1)\n",
    "        df_median_elapsed.rename(columns={\"elapsed\": col_name[i]}, inplace=True)\n",
    "        df = df.merge(df_median_elapsed, on=[\"assessmentItemID\"], how=\"left\")\n",
    "    \n",
    "    \n",
    "    ########## User 관련 ##########\n",
    "    \n",
    "    # User별 정답률, 문제푼 횟수, 맞춘 문제수\n",
    "    df[\"problem_correct_per_user\"] = (df.groupby(\"userID\")[\"answerCode\"].transform(lambda x: x.cumsum().shift(1)).fillna(0))\n",
    "    df[\"problem_solved_per_user\"] = df.groupby(\"userID\")[\"answerCode\"].cumcount()\n",
    "    df[\"cum_answerRate_per_user\"] = (df[\"problem_correct_per_user\"] / df[\"problem_solved_per_user\"]).fillna(0)\n",
    "    \n",
    "    # 유저별 Tag 문제 누적 값\n",
    "    df[\"acc_tag_count_per_user\"] = df.groupby([\"userID\", \"KnowledgeTag\"]).cumcount()\n",
    "\n",
    "    # User별로 대분류별 맞춘 문제 개수, 대분류별 맞춘 문제 개수, 대분류별 정답률\n",
    "    df[\"correct_answer_per_cat\"] = (df.groupby([\"userID\", \"category\"])[\"answerCode\"].transform(lambda x: x.cumsum().shift(1)).fillna(0))\n",
    "    df[\"acc_count_per_cat\"] = df.groupby([\"userID\", \"category\"]).cumcount()\n",
    "    df[\"acc_answerRate_per_cat\"] = (df[\"correct_answer_per_cat\"] / df[\"acc_count_per_cat\"]).fillna(0)\n",
    "    df[\"acc_elapsed_per_cat\"] = (df.groupby([\"userID\", \"category\"])[\"elapsed\"].transform(lambda x: x.cumsum()).fillna(0))\n",
    "    \n",
    "    return df"
   ]
  },
  {
   "cell_type": "code",
   "execution_count": 14,
   "metadata": {
    "id": "-64DyCMfja4B"
   },
   "outputs": [],
   "source": [
    "df = feature_engineering(df)"
   ]
  },
  {
   "cell_type": "markdown",
   "metadata": {
    "id": "5VZzei3DhfQy"
   },
   "source": [
    "## 3. Train/Test Split"
   ]
  },
  {
   "cell_type": "markdown",
   "metadata": {
    "id": "FZbv-MeUja4C"
   },
   "source": [
    "- 마지막 interaction 때문에 custom split 진행\n",
    "- 반복문을 이용해서 train -> Split"
   ]
  },
  {
   "cell_type": "code",
   "execution_count": 22,
   "metadata": {
    "ExecuteTime": {
     "end_time": "2021-05-24T09:49:29.686739Z",
     "start_time": "2021-05-24T09:49:28.984Z"
    },
    "id": "i3HzdoybhfQ0"
   },
   "outputs": [],
   "source": [
    "# Feature Selection\n",
    "FEATS = [\n",
    "    \"KnowledgeTag\",\n",
    "    \"answerRate_per_tag\", \n",
    "    \"answerCount_per_tag\",\n",
    "    \"tag_count\",\n",
    "    \"mean_elp_tag_all\",\n",
    "    \"mean_elp_tag_o\",\n",
    "    \"mean_elp_tag_x\",\n",
    "    \"answerRate_per_test\", \n",
    "    \"answerCount_per_test\",\n",
    "    \"cum_answerRate_per_user\",\n",
    "    \"problem_correct_per_user\",\n",
    "    \"problem_solved_per_user\",\n",
    "    \"mean_elp_ass_all\",\n",
    "    \"mean_elp_ass_o\",\n",
    "    \"mean_elp_ass_x\",\n",
    "    \"answerRate_per_ass\", \n",
    "    \"answerCount_per_ass\",\n",
    "    \"elapsed\",\n",
    "    'elapsed_shift',\n",
    "    \"category\",\n",
    "    \"acc_answerRate_per_cat\",\n",
    "    \"acc_count_per_cat\",\n",
    "    \"acc_elapsed_per_cat\",\n",
    "    \"correct_answer_per_cat\",\n",
    "    \"test_number\",\n",
    "    \"mean_elp_pnum_all\",\n",
    "    \"mean_elp_pnum_o\",\n",
    "    \"mean_elp_pnum_x\",\n",
    "    \"acc_tag_count_per_user\",\n",
    "    \"problem_count\",\n",
    "    \"problem_number\",\n",
    "    \"answerRate_per_pnum\",\n",
    "    \"answerCount_per_pnum\",\n",
    "    \"problem_position\",\n",
    "    'timeDelta_userAverage',\n",
    "    'timestep_1', 'timestep_2', 'timestep_3', 'timestep_4', 'timestep_5',\n",
    "    \"median_elapsed_wrong_users\", \"median_elapsed_correct_users\"\n",
    "]"
   ]
  },
  {
   "cell_type": "code",
   "execution_count": 23,
   "metadata": {
    "colab": {
     "base_uri": "https://localhost:8080/"
    },
    "executionInfo": {
     "elapsed": 3815,
     "status": "ok",
     "timestamp": 1685638026891,
     "user": {
      "displayName": "박수현",
      "userId": "16969014052180030902"
     },
     "user_tz": -540
    },
    "id": "rlb8IZEVja4D",
    "outputId": "cd7de4fd-8a66-4749-b2f4-124df4bd5687"
   },
   "outputs": [
    {
     "name": "stdout",
     "output_type": "stream",
     "text": [
      "(2020764, 50) (2020764,) (505192, 50) (505192,)\n"
     ]
    }
   ],
   "source": [
    "# User별 split\n",
    "train, valid = train_test_split(df[df['answerCode'] != -1], test_size = 0.2, random_state = seed, shuffle = True)\n",
    "\n",
    "y_train = train[\"answerCode\"]\n",
    "train = train.drop([\"answerCode\"], axis=1)\n",
    "\n",
    "y_valid = valid[\"answerCode\"]\n",
    "valid = valid.drop([\"answerCode\"], axis=1)\n",
    "\n",
    "print(train.shape, y_train.shape, valid.shape, y_valid.shape)"
   ]
  },
  {
   "cell_type": "markdown",
   "metadata": {
    "id": "KiHss_BBhfQ2"
   },
   "source": [
    "## 4. 훈련 및 검증"
   ]
  },
  {
   "cell_type": "code",
   "execution_count": 25,
   "metadata": {
    "colab": {
     "base_uri": "https://localhost:8080/",
     "height": 433
    },
    "executionInfo": {
     "elapsed": 13318,
     "status": "error",
     "timestamp": 1685638040206,
     "user": {
      "displayName": "박수현",
      "userId": "16969014052180030902"
     },
     "user_tz": -540
    },
    "id": "q_jXSQ4Wn41f",
    "outputId": "a7539e8e-82b1-4db0-8293-ef963d2c568a"
   },
   "outputs": [
    {
     "name": "stdout",
     "output_type": "stream",
     "text": [
      "[5]\tvalid_0's auc: 0.835951\tvalid_0's binary_logloss: 0.541557\n",
      "[10]\tvalid_0's auc: 0.842638\tvalid_0's binary_logloss: 0.496088\n",
      "[15]\tvalid_0's auc: 0.846491\tvalid_0's binary_logloss: 0.472959\n",
      "[20]\tvalid_0's auc: 0.849438\tvalid_0's binary_logloss: 0.46015\n",
      "[25]\tvalid_0's auc: 0.851582\tvalid_0's binary_logloss: 0.452668\n",
      "[30]\tvalid_0's auc: 0.85305\tvalid_0's binary_logloss: 0.448117\n",
      "[35]\tvalid_0's auc: 0.854234\tvalid_0's binary_logloss: 0.445051\n",
      "[40]\tvalid_0's auc: 0.855107\tvalid_0's binary_logloss: 0.443048\n",
      "[45]\tvalid_0's auc: 0.855966\tvalid_0's binary_logloss: 0.441292\n",
      "[50]\tvalid_0's auc: 0.856484\tvalid_0's binary_logloss: 0.440242\n",
      "[55]\tvalid_0's auc: 0.856999\tvalid_0's binary_logloss: 0.439245\n",
      "[60]\tvalid_0's auc: 0.857542\tvalid_0's binary_logloss: 0.438306\n",
      "[65]\tvalid_0's auc: 0.857916\tvalid_0's binary_logloss: 0.437654\n",
      "[70]\tvalid_0's auc: 0.858295\tvalid_0's binary_logloss: 0.437037\n",
      "[75]\tvalid_0's auc: 0.858607\tvalid_0's binary_logloss: 0.436502\n",
      "[80]\tvalid_0's auc: 0.858927\tvalid_0's binary_logloss: 0.435969\n",
      "[85]\tvalid_0's auc: 0.859234\tvalid_0's binary_logloss: 0.435496\n",
      "[90]\tvalid_0's auc: 0.859454\tvalid_0's binary_logloss: 0.435134\n",
      "[95]\tvalid_0's auc: 0.859706\tvalid_0's binary_logloss: 0.434751\n",
      "[100]\tvalid_0's auc: 0.859909\tvalid_0's binary_logloss: 0.434435\n",
      "[105]\tvalid_0's auc: 0.860069\tvalid_0's binary_logloss: 0.43417\n",
      "[110]\tvalid_0's auc: 0.860226\tvalid_0's binary_logloss: 0.433915\n",
      "[115]\tvalid_0's auc: 0.860377\tvalid_0's binary_logloss: 0.43367\n",
      "[120]\tvalid_0's auc: 0.860537\tvalid_0's binary_logloss: 0.433428\n",
      "[125]\tvalid_0's auc: 0.860648\tvalid_0's binary_logloss: 0.433255\n",
      "[130]\tvalid_0's auc: 0.860746\tvalid_0's binary_logloss: 0.433089\n",
      "[135]\tvalid_0's auc: 0.860858\tvalid_0's binary_logloss: 0.432911\n",
      "[140]\tvalid_0's auc: 0.860967\tvalid_0's binary_logloss: 0.432746\n",
      "[145]\tvalid_0's auc: 0.861038\tvalid_0's binary_logloss: 0.43262\n",
      "[150]\tvalid_0's auc: 0.861097\tvalid_0's binary_logloss: 0.432536\n",
      "[155]\tvalid_0's auc: 0.861169\tvalid_0's binary_logloss: 0.432425\n",
      "[160]\tvalid_0's auc: 0.861255\tvalid_0's binary_logloss: 0.432285\n",
      "[165]\tvalid_0's auc: 0.861317\tvalid_0's binary_logloss: 0.432182\n",
      "[170]\tvalid_0's auc: 0.861368\tvalid_0's binary_logloss: 0.432109\n",
      "[175]\tvalid_0's auc: 0.86145\tvalid_0's binary_logloss: 0.431982\n",
      "[180]\tvalid_0's auc: 0.86154\tvalid_0's binary_logloss: 0.43184\n",
      "[185]\tvalid_0's auc: 0.861563\tvalid_0's binary_logloss: 0.431797\n",
      "[190]\tvalid_0's auc: 0.861663\tvalid_0's binary_logloss: 0.431632\n",
      "[195]\tvalid_0's auc: 0.861698\tvalid_0's binary_logloss: 0.431571\n",
      "[200]\tvalid_0's auc: 0.861731\tvalid_0's binary_logloss: 0.431526\n",
      "[205]\tvalid_0's auc: 0.861804\tvalid_0's binary_logloss: 0.43141\n",
      "[210]\tvalid_0's auc: 0.861838\tvalid_0's binary_logloss: 0.431354\n",
      "[215]\tvalid_0's auc: 0.86187\tvalid_0's binary_logloss: 0.431297\n",
      "[220]\tvalid_0's auc: 0.861935\tvalid_0's binary_logloss: 0.431205\n",
      "[225]\tvalid_0's auc: 0.861987\tvalid_0's binary_logloss: 0.431123\n",
      "[230]\tvalid_0's auc: 0.862038\tvalid_0's binary_logloss: 0.431044\n",
      "[235]\tvalid_0's auc: 0.862091\tvalid_0's binary_logloss: 0.430953\n",
      "[240]\tvalid_0's auc: 0.862168\tvalid_0's binary_logloss: 0.430848\n",
      "[245]\tvalid_0's auc: 0.8622\tvalid_0's binary_logloss: 0.430793\n",
      "[250]\tvalid_0's auc: 0.862246\tvalid_0's binary_logloss: 0.430726\n",
      "[255]\tvalid_0's auc: 0.862264\tvalid_0's binary_logloss: 0.430696\n",
      "[260]\tvalid_0's auc: 0.862352\tvalid_0's binary_logloss: 0.430571\n",
      "[265]\tvalid_0's auc: 0.862387\tvalid_0's binary_logloss: 0.430524\n",
      "[270]\tvalid_0's auc: 0.862399\tvalid_0's binary_logloss: 0.430504\n",
      "[275]\tvalid_0's auc: 0.862433\tvalid_0's binary_logloss: 0.430454\n",
      "[280]\tvalid_0's auc: 0.862483\tvalid_0's binary_logloss: 0.430375\n",
      "[285]\tvalid_0's auc: 0.862492\tvalid_0's binary_logloss: 0.430363\n",
      "[290]\tvalid_0's auc: 0.862523\tvalid_0's binary_logloss: 0.430321\n",
      "[295]\tvalid_0's auc: 0.862562\tvalid_0's binary_logloss: 0.430263\n",
      "[300]\tvalid_0's auc: 0.862595\tvalid_0's binary_logloss: 0.430212\n",
      "[305]\tvalid_0's auc: 0.862626\tvalid_0's binary_logloss: 0.430158\n",
      "[310]\tvalid_0's auc: 0.862656\tvalid_0's binary_logloss: 0.430108\n",
      "[315]\tvalid_0's auc: 0.862667\tvalid_0's binary_logloss: 0.430091\n",
      "[320]\tvalid_0's auc: 0.862685\tvalid_0's binary_logloss: 0.430067\n",
      "[325]\tvalid_0's auc: 0.862688\tvalid_0's binary_logloss: 0.43006\n",
      "[330]\tvalid_0's auc: 0.862715\tvalid_0's binary_logloss: 0.430017\n",
      "[335]\tvalid_0's auc: 0.862759\tvalid_0's binary_logloss: 0.429949\n",
      "[340]\tvalid_0's auc: 0.862808\tvalid_0's binary_logloss: 0.429876\n",
      "[345]\tvalid_0's auc: 0.862887\tvalid_0's binary_logloss: 0.429765\n",
      "[350]\tvalid_0's auc: 0.862964\tvalid_0's binary_logloss: 0.429652\n",
      "[355]\tvalid_0's auc: 0.863005\tvalid_0's binary_logloss: 0.429587\n",
      "[360]\tvalid_0's auc: 0.863024\tvalid_0's binary_logloss: 0.429555\n",
      "[365]\tvalid_0's auc: 0.863029\tvalid_0's binary_logloss: 0.429548\n",
      "[370]\tvalid_0's auc: 0.863049\tvalid_0's binary_logloss: 0.429519\n",
      "[375]\tvalid_0's auc: 0.863085\tvalid_0's binary_logloss: 0.42946\n",
      "[380]\tvalid_0's auc: 0.863096\tvalid_0's binary_logloss: 0.429445\n",
      "[385]\tvalid_0's auc: 0.863116\tvalid_0's binary_logloss: 0.429416\n",
      "[390]\tvalid_0's auc: 0.863128\tvalid_0's binary_logloss: 0.429394\n",
      "[395]\tvalid_0's auc: 0.863145\tvalid_0's binary_logloss: 0.429368\n",
      "[400]\tvalid_0's auc: 0.863171\tvalid_0's binary_logloss: 0.429321\n",
      "[405]\tvalid_0's auc: 0.863225\tvalid_0's binary_logloss: 0.42924\n",
      "[410]\tvalid_0's auc: 0.863234\tvalid_0's binary_logloss: 0.429229\n",
      "[415]\tvalid_0's auc: 0.863233\tvalid_0's binary_logloss: 0.429232\n",
      "[420]\tvalid_0's auc: 0.863254\tvalid_0's binary_logloss: 0.429191\n",
      "[425]\tvalid_0's auc: 0.863268\tvalid_0's binary_logloss: 0.42917\n",
      "[430]\tvalid_0's auc: 0.863286\tvalid_0's binary_logloss: 0.42914\n",
      "[435]\tvalid_0's auc: 0.863295\tvalid_0's binary_logloss: 0.429128\n",
      "[440]\tvalid_0's auc: 0.863297\tvalid_0's binary_logloss: 0.429126\n",
      "[445]\tvalid_0's auc: 0.863305\tvalid_0's binary_logloss: 0.429113\n",
      "[450]\tvalid_0's auc: 0.863311\tvalid_0's binary_logloss: 0.429105\n",
      "[455]\tvalid_0's auc: 0.863313\tvalid_0's binary_logloss: 0.429098\n",
      "[460]\tvalid_0's auc: 0.863324\tvalid_0's binary_logloss: 0.429086\n",
      "[465]\tvalid_0's auc: 0.863346\tvalid_0's binary_logloss: 0.429052\n",
      "[470]\tvalid_0's auc: 0.863382\tvalid_0's binary_logloss: 0.429\n",
      "[475]\tvalid_0's auc: 0.86339\tvalid_0's binary_logloss: 0.428983\n",
      "[480]\tvalid_0's auc: 0.863403\tvalid_0's binary_logloss: 0.428962\n",
      "[485]\tvalid_0's auc: 0.863412\tvalid_0's binary_logloss: 0.428949\n",
      "[490]\tvalid_0's auc: 0.863431\tvalid_0's binary_logloss: 0.428921\n",
      "[495]\tvalid_0's auc: 0.863444\tvalid_0's binary_logloss: 0.428895\n",
      "[500]\tvalid_0's auc: 0.863453\tvalid_0's binary_logloss: 0.42888\n",
      "[505]\tvalid_0's auc: 0.863469\tvalid_0's binary_logloss: 0.428853\n",
      "[510]\tvalid_0's auc: 0.863476\tvalid_0's binary_logloss: 0.428842\n",
      "[515]\tvalid_0's auc: 0.863494\tvalid_0's binary_logloss: 0.42881\n",
      "[520]\tvalid_0's auc: 0.863502\tvalid_0's binary_logloss: 0.428799\n",
      "[525]\tvalid_0's auc: 0.863517\tvalid_0's binary_logloss: 0.428778\n",
      "[530]\tvalid_0's auc: 0.863528\tvalid_0's binary_logloss: 0.428764\n",
      "[535]\tvalid_0's auc: 0.863535\tvalid_0's binary_logloss: 0.428754\n",
      "[540]\tvalid_0's auc: 0.863552\tvalid_0's binary_logloss: 0.428728\n",
      "[545]\tvalid_0's auc: 0.863558\tvalid_0's binary_logloss: 0.428717\n",
      "[550]\tvalid_0's auc: 0.863555\tvalid_0's binary_logloss: 0.428723\n",
      "[555]\tvalid_0's auc: 0.863564\tvalid_0's binary_logloss: 0.428709\n",
      "[560]\tvalid_0's auc: 0.863566\tvalid_0's binary_logloss: 0.428705\n",
      "[565]\tvalid_0's auc: 0.863569\tvalid_0's binary_logloss: 0.4287\n",
      "[570]\tvalid_0's auc: 0.863582\tvalid_0's binary_logloss: 0.428681\n",
      "[575]\tvalid_0's auc: 0.863592\tvalid_0's binary_logloss: 0.428665\n",
      "[580]\tvalid_0's auc: 0.863602\tvalid_0's binary_logloss: 0.428651\n",
      "[585]\tvalid_0's auc: 0.863613\tvalid_0's binary_logloss: 0.428633\n",
      "[590]\tvalid_0's auc: 0.863625\tvalid_0's binary_logloss: 0.428615\n",
      "[595]\tvalid_0's auc: 0.863635\tvalid_0's binary_logloss: 0.428598\n",
      "[600]\tvalid_0's auc: 0.863644\tvalid_0's binary_logloss: 0.428581\n",
      "[605]\tvalid_0's auc: 0.863651\tvalid_0's binary_logloss: 0.428569\n",
      "[610]\tvalid_0's auc: 0.86366\tvalid_0's binary_logloss: 0.428555\n",
      "[615]\tvalid_0's auc: 0.86367\tvalid_0's binary_logloss: 0.428539\n",
      "[620]\tvalid_0's auc: 0.863675\tvalid_0's binary_logloss: 0.428527\n",
      "[625]\tvalid_0's auc: 0.863678\tvalid_0's binary_logloss: 0.428524\n",
      "[630]\tvalid_0's auc: 0.863706\tvalid_0's binary_logloss: 0.428474\n",
      "[635]\tvalid_0's auc: 0.863712\tvalid_0's binary_logloss: 0.428464\n",
      "[640]\tvalid_0's auc: 0.863715\tvalid_0's binary_logloss: 0.42846\n",
      "[645]\tvalid_0's auc: 0.863725\tvalid_0's binary_logloss: 0.428444\n",
      "[650]\tvalid_0's auc: 0.863726\tvalid_0's binary_logloss: 0.428442\n",
      "[655]\tvalid_0's auc: 0.863734\tvalid_0's binary_logloss: 0.428429\n",
      "[660]\tvalid_0's auc: 0.863746\tvalid_0's binary_logloss: 0.428411\n",
      "[665]\tvalid_0's auc: 0.863748\tvalid_0's binary_logloss: 0.428411\n",
      "[670]\tvalid_0's auc: 0.863757\tvalid_0's binary_logloss: 0.428396\n",
      "[675]\tvalid_0's auc: 0.863765\tvalid_0's binary_logloss: 0.428384\n",
      "[680]\tvalid_0's auc: 0.863766\tvalid_0's binary_logloss: 0.428385\n",
      "[685]\tvalid_0's auc: 0.863771\tvalid_0's binary_logloss: 0.428375\n",
      "[690]\tvalid_0's auc: 0.863779\tvalid_0's binary_logloss: 0.428362\n",
      "[695]\tvalid_0's auc: 0.86379\tvalid_0's binary_logloss: 0.428344\n",
      "[700]\tvalid_0's auc: 0.863798\tvalid_0's binary_logloss: 0.428331\n",
      "[705]\tvalid_0's auc: 0.863796\tvalid_0's binary_logloss: 0.428333\n",
      "[710]\tvalid_0's auc: 0.86382\tvalid_0's binary_logloss: 0.428294\n",
      "[715]\tvalid_0's auc: 0.863826\tvalid_0's binary_logloss: 0.428282\n",
      "[720]\tvalid_0's auc: 0.863825\tvalid_0's binary_logloss: 0.428282\n",
      "[725]\tvalid_0's auc: 0.863828\tvalid_0's binary_logloss: 0.428273\n",
      "[730]\tvalid_0's auc: 0.863846\tvalid_0's binary_logloss: 0.428244\n",
      "[735]\tvalid_0's auc: 0.863857\tvalid_0's binary_logloss: 0.428227\n",
      "[740]\tvalid_0's auc: 0.863856\tvalid_0's binary_logloss: 0.428231\n",
      "[745]\tvalid_0's auc: 0.863852\tvalid_0's binary_logloss: 0.428236\n",
      "[750]\tvalid_0's auc: 0.863861\tvalid_0's binary_logloss: 0.428221\n",
      "[755]\tvalid_0's auc: 0.863871\tvalid_0's binary_logloss: 0.428205\n",
      "[760]\tvalid_0's auc: 0.863887\tvalid_0's binary_logloss: 0.428182\n",
      "[765]\tvalid_0's auc: 0.86389\tvalid_0's binary_logloss: 0.428176\n",
      "[770]\tvalid_0's auc: 0.863889\tvalid_0's binary_logloss: 0.428179\n",
      "[775]\tvalid_0's auc: 0.863902\tvalid_0's binary_logloss: 0.428155\n",
      "[780]\tvalid_0's auc: 0.863911\tvalid_0's binary_logloss: 0.428143\n",
      "[785]\tvalid_0's auc: 0.863919\tvalid_0's binary_logloss: 0.428131\n",
      "[790]\tvalid_0's auc: 0.863928\tvalid_0's binary_logloss: 0.428117\n",
      "[795]\tvalid_0's auc: 0.863934\tvalid_0's binary_logloss: 0.428108\n",
      "[800]\tvalid_0's auc: 0.863933\tvalid_0's binary_logloss: 0.428106\n",
      "[805]\tvalid_0's auc: 0.863943\tvalid_0's binary_logloss: 0.428094\n",
      "[810]\tvalid_0's auc: 0.86394\tvalid_0's binary_logloss: 0.428097\n",
      "[815]\tvalid_0's auc: 0.863943\tvalid_0's binary_logloss: 0.428091\n",
      "[820]\tvalid_0's auc: 0.863947\tvalid_0's binary_logloss: 0.42808\n",
      "[825]\tvalid_0's auc: 0.863954\tvalid_0's binary_logloss: 0.428067\n",
      "[830]\tvalid_0's auc: 0.863965\tvalid_0's binary_logloss: 0.428048\n",
      "[835]\tvalid_0's auc: 0.863972\tvalid_0's binary_logloss: 0.428038\n",
      "[840]\tvalid_0's auc: 0.86397\tvalid_0's binary_logloss: 0.428043\n",
      "[845]\tvalid_0's auc: 0.863979\tvalid_0's binary_logloss: 0.428027\n",
      "[850]\tvalid_0's auc: 0.86399\tvalid_0's binary_logloss: 0.428012\n",
      "[855]\tvalid_0's auc: 0.864001\tvalid_0's binary_logloss: 0.427995\n",
      "[860]\tvalid_0's auc: 0.864015\tvalid_0's binary_logloss: 0.42797\n",
      "[865]\tvalid_0's auc: 0.864012\tvalid_0's binary_logloss: 0.427971\n",
      "[870]\tvalid_0's auc: 0.864012\tvalid_0's binary_logloss: 0.427971\n",
      "[875]\tvalid_0's auc: 0.864009\tvalid_0's binary_logloss: 0.427973\n",
      "[880]\tvalid_0's auc: 0.86401\tvalid_0's binary_logloss: 0.427972\n",
      "[885]\tvalid_0's auc: 0.86402\tvalid_0's binary_logloss: 0.427961\n",
      "[890]\tvalid_0's auc: 0.864032\tvalid_0's binary_logloss: 0.42794\n",
      "[895]\tvalid_0's auc: 0.864033\tvalid_0's binary_logloss: 0.42794\n",
      "[900]\tvalid_0's auc: 0.864043\tvalid_0's binary_logloss: 0.427926\n",
      "[905]\tvalid_0's auc: 0.864047\tvalid_0's binary_logloss: 0.427916\n",
      "[910]\tvalid_0's auc: 0.864055\tvalid_0's binary_logloss: 0.427892\n",
      "[915]\tvalid_0's auc: 0.864065\tvalid_0's binary_logloss: 0.427874\n",
      "[920]\tvalid_0's auc: 0.864066\tvalid_0's binary_logloss: 0.427873\n",
      "[925]\tvalid_0's auc: 0.864077\tvalid_0's binary_logloss: 0.427851\n",
      "[930]\tvalid_0's auc: 0.864084\tvalid_0's binary_logloss: 0.427841\n",
      "[935]\tvalid_0's auc: 0.864085\tvalid_0's binary_logloss: 0.427837\n",
      "[940]\tvalid_0's auc: 0.864094\tvalid_0's binary_logloss: 0.427822\n",
      "[945]\tvalid_0's auc: 0.864098\tvalid_0's binary_logloss: 0.427817\n",
      "[950]\tvalid_0's auc: 0.864101\tvalid_0's binary_logloss: 0.427813\n",
      "[955]\tvalid_0's auc: 0.86411\tvalid_0's binary_logloss: 0.427802\n",
      "[960]\tvalid_0's auc: 0.86411\tvalid_0's binary_logloss: 0.427802\n",
      "[965]\tvalid_0's auc: 0.864114\tvalid_0's binary_logloss: 0.427792\n",
      "[970]\tvalid_0's auc: 0.864126\tvalid_0's binary_logloss: 0.42777\n",
      "[975]\tvalid_0's auc: 0.864145\tvalid_0's binary_logloss: 0.427741\n",
      "[980]\tvalid_0's auc: 0.864151\tvalid_0's binary_logloss: 0.427727\n",
      "[985]\tvalid_0's auc: 0.864162\tvalid_0's binary_logloss: 0.427707\n",
      "[990]\tvalid_0's auc: 0.864162\tvalid_0's binary_logloss: 0.427704\n",
      "[995]\tvalid_0's auc: 0.864164\tvalid_0's binary_logloss: 0.427703\n",
      "[1000]\tvalid_0's auc: 0.86417\tvalid_0's binary_logloss: 0.427696\n"
     ]
    },
    {
     "data": {
      "text/html": [
       "<style>#sk-container-id-1 {color: black;background-color: white;}#sk-container-id-1 pre{padding: 0;}#sk-container-id-1 div.sk-toggleable {background-color: white;}#sk-container-id-1 label.sk-toggleable__label {cursor: pointer;display: block;width: 100%;margin-bottom: 0;padding: 0.3em;box-sizing: border-box;text-align: center;}#sk-container-id-1 label.sk-toggleable__label-arrow:before {content: \"▸\";float: left;margin-right: 0.25em;color: #696969;}#sk-container-id-1 label.sk-toggleable__label-arrow:hover:before {color: black;}#sk-container-id-1 div.sk-estimator:hover label.sk-toggleable__label-arrow:before {color: black;}#sk-container-id-1 div.sk-toggleable__content {max-height: 0;max-width: 0;overflow: hidden;text-align: left;background-color: #f0f8ff;}#sk-container-id-1 div.sk-toggleable__content pre {margin: 0.2em;color: black;border-radius: 0.25em;background-color: #f0f8ff;}#sk-container-id-1 input.sk-toggleable__control:checked~div.sk-toggleable__content {max-height: 200px;max-width: 100%;overflow: auto;}#sk-container-id-1 input.sk-toggleable__control:checked~label.sk-toggleable__label-arrow:before {content: \"▾\";}#sk-container-id-1 div.sk-estimator input.sk-toggleable__control:checked~label.sk-toggleable__label {background-color: #d4ebff;}#sk-container-id-1 div.sk-label input.sk-toggleable__control:checked~label.sk-toggleable__label {background-color: #d4ebff;}#sk-container-id-1 input.sk-hidden--visually {border: 0;clip: rect(1px 1px 1px 1px);clip: rect(1px, 1px, 1px, 1px);height: 1px;margin: -1px;overflow: hidden;padding: 0;position: absolute;width: 1px;}#sk-container-id-1 div.sk-estimator {font-family: monospace;background-color: #f0f8ff;border: 1px dotted black;border-radius: 0.25em;box-sizing: border-box;margin-bottom: 0.5em;}#sk-container-id-1 div.sk-estimator:hover {background-color: #d4ebff;}#sk-container-id-1 div.sk-parallel-item::after {content: \"\";width: 100%;border-bottom: 1px solid gray;flex-grow: 1;}#sk-container-id-1 div.sk-label:hover label.sk-toggleable__label {background-color: #d4ebff;}#sk-container-id-1 div.sk-serial::before {content: \"\";position: absolute;border-left: 1px solid gray;box-sizing: border-box;top: 0;bottom: 0;left: 50%;z-index: 0;}#sk-container-id-1 div.sk-serial {display: flex;flex-direction: column;align-items: center;background-color: white;padding-right: 0.2em;padding-left: 0.2em;position: relative;}#sk-container-id-1 div.sk-item {position: relative;z-index: 1;}#sk-container-id-1 div.sk-parallel {display: flex;align-items: stretch;justify-content: center;background-color: white;position: relative;}#sk-container-id-1 div.sk-item::before, #sk-container-id-1 div.sk-parallel-item::before {content: \"\";position: absolute;border-left: 1px solid gray;box-sizing: border-box;top: 0;bottom: 0;left: 50%;z-index: -1;}#sk-container-id-1 div.sk-parallel-item {display: flex;flex-direction: column;z-index: 1;position: relative;background-color: white;}#sk-container-id-1 div.sk-parallel-item:first-child::after {align-self: flex-end;width: 50%;}#sk-container-id-1 div.sk-parallel-item:last-child::after {align-self: flex-start;width: 50%;}#sk-container-id-1 div.sk-parallel-item:only-child::after {width: 0;}#sk-container-id-1 div.sk-dashed-wrapped {border: 1px dashed gray;margin: 0 0.4em 0.5em 0.4em;box-sizing: border-box;padding-bottom: 0.4em;background-color: white;}#sk-container-id-1 div.sk-label label {font-family: monospace;font-weight: bold;display: inline-block;line-height: 1.2em;}#sk-container-id-1 div.sk-label-container {text-align: center;}#sk-container-id-1 div.sk-container {/* jupyter's `normalize.less` sets `[hidden] { display: none; }` but bootstrap.min.css set `[hidden] { display: none !important; }` so we also need the `!important` here to be able to override the default hidden behavior on the sphinx rendered scikit-learn.org. See: https://github.com/scikit-learn/scikit-learn/issues/21755 */display: inline-block !important;position: relative;}#sk-container-id-1 div.sk-text-repr-fallback {display: none;}</style><div id=\"sk-container-id-1\" class=\"sk-top-container\"><div class=\"sk-text-repr-fallback\"><pre>LGBMClassifier(n_estimators=1000)</pre><b>In a Jupyter environment, please rerun this cell to show the HTML representation or trust the notebook. <br />On GitHub, the HTML representation is unable to render, please try loading this page with nbviewer.org.</b></div><div class=\"sk-container\" hidden><div class=\"sk-item\"><div class=\"sk-estimator sk-toggleable\"><input class=\"sk-toggleable__control sk-hidden--visually\" id=\"sk-estimator-id-1\" type=\"checkbox\" checked><label for=\"sk-estimator-id-1\" class=\"sk-toggleable__label sk-toggleable__label-arrow\">LGBMClassifier</label><div class=\"sk-toggleable__content\"><pre>LGBMClassifier(n_estimators=1000)</pre></div></div></div></div></div>"
      ],
      "text/plain": [
       "LGBMClassifier(n_estimators=1000)"
      ]
     },
     "execution_count": 25,
     "metadata": {},
     "output_type": "execute_result"
    }
   ],
   "source": [
    "model = LGBMClassifier(n_estimators=1000)\n",
    "\n",
    "model.fit(X=train[FEATS],\n",
    "          y=y_train,\n",
    "          eval_set=[(valid[FEATS], y_valid)],\n",
    "          eval_metric=\"auc\",\n",
    "          # early_stopping_rounds=100,\n",
    "          verbose=5,\n",
    "         )"
   ]
  },
  {
   "cell_type": "code",
   "execution_count": 26,
   "metadata": {
    "colab": {
     "base_uri": "https://localhost:8080/"
    },
    "executionInfo": {
     "elapsed": 2592,
     "status": "ok",
     "timestamp": 1684760885757,
     "user": {
      "displayName": "박수현",
      "userId": "16969014052180030902"
     },
     "user_tz": -540
    },
    "id": "bFcKyFEPzF5r",
    "outputId": "0e90d944-c76b-484e-a2b5-fb7396c8e27f"
   },
   "outputs": [
    {
     "name": "stdout",
     "output_type": "stream",
     "text": [
      "VALID AUC : 0.8641703025809075 ACC : 0.8067922690778951\n",
      "\n"
     ]
    }
   ],
   "source": [
    "#  LGBoost 모델 추론\n",
    "preds = model.predict_proba(valid[FEATS])[:, 1]\n",
    "acc = accuracy_score(y_valid, np.where(preds >= 0.5, 1, 0))\n",
    "auc = roc_auc_score(y_valid, preds)\n",
    "\n",
    "print(f\"VALID AUC : {auc} ACC : {acc}\\n\")"
   ]
  },
  {
   "cell_type": "code",
   "execution_count": 27,
   "metadata": {
    "id": "q4F-Uq6dVGFk"
   },
   "outputs": [],
   "source": [
    "test_df = df[df.dataset == 2]\n",
    "# LEAVE LAST INTERACTION ONLY\n",
    "test_df = test_df[test_df[\"userID\"] != test_df[\"userID\"].shift(-1)]\n",
    "\n",
    "# DROP ANSWERCODE\n",
    "test_df = test_df.drop([\"answerCode\"], axis=1)\n",
    "\n",
    "# MAKE PREDICTION\n",
    "total_probs = model.predict_proba(test_df[FEATS])[:,-1]"
   ]
  },
  {
   "cell_type": "code",
   "execution_count": null,
   "metadata": {
    "id": "Ms6QRvyXUtzL"
   },
   "outputs": [],
   "source": [
    "# SAVE OUTPUT\n",
    "write_path = os.path.join(data_path, \"submission_Lgbm.csv\")\n",
    "with open(write_path, \"w\", encoding=\"utf8\") as w:\n",
    "    w.write(\"id,prediction\\n\")\n",
    "    for id, p in enumerate(total_probs):\n",
    "        w.write(\"{},{}\\n\".format(id, p))"
   ]
  },
  {
   "cell_type": "markdown",
   "metadata": {
    "id": "eAW3-StWRFOK"
   },
   "source": [
    "###**콘텐츠 라이선스**\n",
    "\n",
    "<font color='red'><b>**WARNING**</b></font> : **본 교육 콘텐츠의 지식재산권은 재단법인 네이버커넥트에 귀속됩니다. 본 콘텐츠를 어떠한 경로로든 외부로 유출 및 수정하는 행위를 엄격히 금합니다.** 다만, 비영리적 교육 및 연구활동에 한정되어 사용할 수 있으나 재단의 허락을 받아야 합니다. 이를 위반하는 경우, 관련 법률에 따라 책임을 질 수 있습니다.\n",
    "\n"
   ]
  }
 ],
 "metadata": {
  "colab": {
   "machine_shape": "hm",
   "provenance": []
  },
  "kernelspec": {
   "display_name": "Python 3 (ipykernel)",
   "language": "python",
   "name": "python3"
  },
  "language_info": {
   "codemirror_mode": {
    "name": "ipython",
    "version": 3
   },
   "file_extension": ".py",
   "mimetype": "text/x-python",
   "name": "python",
   "nbconvert_exporter": "python",
   "pygments_lexer": "ipython3",
   "version": "3.8.5"
  },
  "toc": {
   "base_numbering": 1,
   "nav_menu": {},
   "number_sections": false,
   "sideBar": true,
   "skip_h1_title": false,
   "title_cell": "Table of Contents",
   "title_sidebar": "Contents",
   "toc_cell": false,
   "toc_position": {},
   "toc_section_display": true,
   "toc_window_display": true
  },
  "vscode": {
   "interpreter": {
    "hash": "25034407fed5d681614dac11a1c0537e8cb49e3a8883c071303eea01322943d9"
   }
  }
 },
 "nbformat": 4,
 "nbformat_minor": 1
}
